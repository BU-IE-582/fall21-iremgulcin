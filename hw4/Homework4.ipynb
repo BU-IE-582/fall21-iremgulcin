{
 "cells": [
  {
   "cell_type": "markdown",
   "metadata": {},
   "source": [
    "# Multiple Instance Learning"
   ]
  },
  {
   "cell_type": "code",
   "execution_count": 1,
   "metadata": {},
   "outputs": [],
   "source": [
    "#import required libraries\n",
    "import pandas as pd\n",
    "import matplotlib.pyplot as plt\n",
    "import numpy as np\n",
    "import seaborn as sns \n",
    "from sklearn.model_selection import cross_val_score\n",
    "from sklearn.neighbors import KNeighborsClassifier\n",
    "from sklearn.model_selection import cross_val_score\n",
    "from sklearn.metrics import confusion_matrix,accuracy_score\n",
    "from sklearn import metrics\n",
    "from datetime import datetime\n",
    "from sklearn.linear_model import LogisticRegressionCV\n",
    "import seaborn as sn\n",
    "from sklearn.metrics.pairwise import euclidean_distances\n",
    "from sklearn.linear_model import LogisticRegression\n",
    "sns.set()"
   ]
  },
  {
   "cell_type": "code",
   "execution_count": 2,
   "metadata": {},
   "outputs": [],
   "source": [
    "#read the dataser\n",
    "musk = pd.read_csv('Musk1.csv', header=None)"
   ]
  },
  {
   "cell_type": "markdown",
   "metadata": {},
   "source": [
    "Task:\n",
    "Suggest two alternative bag-level representations for the given multiple instance learning problem.\n",
    "Based on the proposed bag-level representations for Musk1 dataset, evaluate at least two reasonable\n",
    "classifiers (of your choice). The example representation is very simple and introduced for illustration\n",
    "purposes. Please do not consider it as a valid alternative. You are expected to justify your bag-level\n",
    "representation approach. This may be achieved by some descriptive analysis you perform (to motivate\n",
    "your approaches). You can benefit from the literature as long as you provide your references\n",
    "accordingly. Please note that if the proposed representation approach has certain parameters, these\n",
    "parameters are also part of your algorithm. Hence, representation parameters (if there is any) should\n",
    "also be tuned together with the parameters of your proposed approach. Specify the best set of parameter\n",
    "combination for the proposed representations and your classifier. Use the accuracy based on 10-fold\n",
    "cross-validation on the training data as your primary performance metric in your evaluations.\n"
   ]
  },
  {
   "cell_type": "code",
   "execution_count": 3,
   "metadata": {
    "scrolled": true
   },
   "outputs": [
    {
     "name": "stdout",
     "output_type": "stream",
     "text": [
      "(476, 168)\n"
     ]
    },
    {
     "data": {
      "text/html": [
       "<div>\n",
       "<style scoped>\n",
       "    .dataframe tbody tr th:only-of-type {\n",
       "        vertical-align: middle;\n",
       "    }\n",
       "\n",
       "    .dataframe tbody tr th {\n",
       "        vertical-align: top;\n",
       "    }\n",
       "\n",
       "    .dataframe thead th {\n",
       "        text-align: right;\n",
       "    }\n",
       "</style>\n",
       "<table border=\"1\" class=\"dataframe\">\n",
       "  <thead>\n",
       "    <tr style=\"text-align: right;\">\n",
       "      <th></th>\n",
       "      <th>Bag class</th>\n",
       "      <th>Bag Id</th>\n",
       "      <th>F0</th>\n",
       "      <th>F1</th>\n",
       "      <th>F2</th>\n",
       "      <th>F3</th>\n",
       "      <th>F4</th>\n",
       "      <th>F5</th>\n",
       "      <th>F6</th>\n",
       "      <th>F7</th>\n",
       "      <th>...</th>\n",
       "      <th>F156</th>\n",
       "      <th>F157</th>\n",
       "      <th>F158</th>\n",
       "      <th>F159</th>\n",
       "      <th>F160</th>\n",
       "      <th>F161</th>\n",
       "      <th>F162</th>\n",
       "      <th>F163</th>\n",
       "      <th>F164</th>\n",
       "      <th>F165</th>\n",
       "    </tr>\n",
       "  </thead>\n",
       "  <tbody>\n",
       "    <tr>\n",
       "      <th>0</th>\n",
       "      <td>1</td>\n",
       "      <td>1</td>\n",
       "      <td>42</td>\n",
       "      <td>-198</td>\n",
       "      <td>-109</td>\n",
       "      <td>-75</td>\n",
       "      <td>-117</td>\n",
       "      <td>11</td>\n",
       "      <td>23</td>\n",
       "      <td>-88</td>\n",
       "      <td>...</td>\n",
       "      <td>-238</td>\n",
       "      <td>-74</td>\n",
       "      <td>-129</td>\n",
       "      <td>-120</td>\n",
       "      <td>-38</td>\n",
       "      <td>30</td>\n",
       "      <td>48</td>\n",
       "      <td>-37</td>\n",
       "      <td>6</td>\n",
       "      <td>30</td>\n",
       "    </tr>\n",
       "    <tr>\n",
       "      <th>1</th>\n",
       "      <td>1</td>\n",
       "      <td>1</td>\n",
       "      <td>42</td>\n",
       "      <td>-191</td>\n",
       "      <td>-142</td>\n",
       "      <td>-65</td>\n",
       "      <td>-117</td>\n",
       "      <td>55</td>\n",
       "      <td>49</td>\n",
       "      <td>-170</td>\n",
       "      <td>...</td>\n",
       "      <td>-238</td>\n",
       "      <td>-302</td>\n",
       "      <td>60</td>\n",
       "      <td>-120</td>\n",
       "      <td>-39</td>\n",
       "      <td>31</td>\n",
       "      <td>48</td>\n",
       "      <td>-37</td>\n",
       "      <td>5</td>\n",
       "      <td>30</td>\n",
       "    </tr>\n",
       "    <tr>\n",
       "      <th>2</th>\n",
       "      <td>1</td>\n",
       "      <td>1</td>\n",
       "      <td>42</td>\n",
       "      <td>-191</td>\n",
       "      <td>-142</td>\n",
       "      <td>-75</td>\n",
       "      <td>-117</td>\n",
       "      <td>11</td>\n",
       "      <td>49</td>\n",
       "      <td>-161</td>\n",
       "      <td>...</td>\n",
       "      <td>-238</td>\n",
       "      <td>-73</td>\n",
       "      <td>-127</td>\n",
       "      <td>-120</td>\n",
       "      <td>-38</td>\n",
       "      <td>30</td>\n",
       "      <td>48</td>\n",
       "      <td>-37</td>\n",
       "      <td>5</td>\n",
       "      <td>31</td>\n",
       "    </tr>\n",
       "    <tr>\n",
       "      <th>3</th>\n",
       "      <td>1</td>\n",
       "      <td>1</td>\n",
       "      <td>42</td>\n",
       "      <td>-198</td>\n",
       "      <td>-110</td>\n",
       "      <td>-65</td>\n",
       "      <td>-117</td>\n",
       "      <td>55</td>\n",
       "      <td>23</td>\n",
       "      <td>-95</td>\n",
       "      <td>...</td>\n",
       "      <td>-238</td>\n",
       "      <td>-302</td>\n",
       "      <td>60</td>\n",
       "      <td>-120</td>\n",
       "      <td>-39</td>\n",
       "      <td>30</td>\n",
       "      <td>48</td>\n",
       "      <td>-37</td>\n",
       "      <td>6</td>\n",
       "      <td>30</td>\n",
       "    </tr>\n",
       "    <tr>\n",
       "      <th>4</th>\n",
       "      <td>1</td>\n",
       "      <td>2</td>\n",
       "      <td>42</td>\n",
       "      <td>-198</td>\n",
       "      <td>-102</td>\n",
       "      <td>-75</td>\n",
       "      <td>-117</td>\n",
       "      <td>10</td>\n",
       "      <td>24</td>\n",
       "      <td>-87</td>\n",
       "      <td>...</td>\n",
       "      <td>-238</td>\n",
       "      <td>-73</td>\n",
       "      <td>-127</td>\n",
       "      <td>51</td>\n",
       "      <td>128</td>\n",
       "      <td>144</td>\n",
       "      <td>43</td>\n",
       "      <td>-30</td>\n",
       "      <td>14</td>\n",
       "      <td>26</td>\n",
       "    </tr>\n",
       "  </tbody>\n",
       "</table>\n",
       "<p>5 rows × 168 columns</p>\n",
       "</div>"
      ],
      "text/plain": [
       "   Bag class  Bag Id  F0   F1   F2  F3   F4  F5  F6   F7  ...  F156  F157  \\\n",
       "0          1       1  42 -198 -109 -75 -117  11  23  -88  ...  -238   -74   \n",
       "1          1       1  42 -191 -142 -65 -117  55  49 -170  ...  -238  -302   \n",
       "2          1       1  42 -191 -142 -75 -117  11  49 -161  ...  -238   -73   \n",
       "3          1       1  42 -198 -110 -65 -117  55  23  -95  ...  -238  -302   \n",
       "4          1       2  42 -198 -102 -75 -117  10  24  -87  ...  -238   -73   \n",
       "\n",
       "   F158  F159  F160  F161  F162  F163  F164  F165  \n",
       "0  -129  -120   -38    30    48   -37     6    30  \n",
       "1    60  -120   -39    31    48   -37     5    30  \n",
       "2  -127  -120   -38    30    48   -37     5    31  \n",
       "3    60  -120   -39    30    48   -37     6    30  \n",
       "4  -127    51   128   144    43   -30    14    26  \n",
       "\n",
       "[5 rows x 168 columns]"
      ]
     },
     "execution_count": 3,
     "metadata": {},
     "output_type": "execute_result"
    }
   ],
   "source": [
    "#rename thee dataset\n",
    "musk_features=musk.iloc[:,2:]\n",
    "musk_features.columns = ['F{}'.format(i) for i in range(0,len(musk_features.columns))]\n",
    "musk1=musk.iloc[:,:2]\n",
    "musk1.set_axis(['Bag class', 'Bag Id'], axis=1, inplace=True)\n",
    "musk=pd.concat([musk1,musk_features], axis=1)\n",
    "print(musk.shape)\n",
    "musk.head()"
   ]
  },
  {
   "cell_type": "markdown",
   "metadata": {},
   "source": [
    "For the representation, statistical values for each id can be used. I prefer to use max and min values for a representation. For another quartiles for each id are used."
   ]
  },
  {
   "cell_type": "markdown",
   "metadata": {},
   "source": [
    "# Max-Min representation"
   ]
  },
  {
   "cell_type": "code",
   "execution_count": 4,
   "metadata": {
    "scrolled": true
   },
   "outputs": [
    {
     "name": "stdout",
     "output_type": "stream",
     "text": [
      "(92, 168)\n"
     ]
    },
    {
     "data": {
      "text/html": [
       "<div>\n",
       "<style scoped>\n",
       "    .dataframe tbody tr th:only-of-type {\n",
       "        vertical-align: middle;\n",
       "    }\n",
       "\n",
       "    .dataframe tbody tr th {\n",
       "        vertical-align: top;\n",
       "    }\n",
       "\n",
       "    .dataframe thead th {\n",
       "        text-align: right;\n",
       "    }\n",
       "</style>\n",
       "<table border=\"1\" class=\"dataframe\">\n",
       "  <thead>\n",
       "    <tr style=\"text-align: right;\">\n",
       "      <th></th>\n",
       "      <th>Bag Id</th>\n",
       "      <th>Bag class</th>\n",
       "      <th>F0</th>\n",
       "      <th>F1</th>\n",
       "      <th>F2</th>\n",
       "      <th>F3</th>\n",
       "      <th>F4</th>\n",
       "      <th>F5</th>\n",
       "      <th>F6</th>\n",
       "      <th>F7</th>\n",
       "      <th>...</th>\n",
       "      <th>F156</th>\n",
       "      <th>F157</th>\n",
       "      <th>F158</th>\n",
       "      <th>F159</th>\n",
       "      <th>F160</th>\n",
       "      <th>F161</th>\n",
       "      <th>F162</th>\n",
       "      <th>F163</th>\n",
       "      <th>F164</th>\n",
       "      <th>F165</th>\n",
       "    </tr>\n",
       "  </thead>\n",
       "  <tbody>\n",
       "    <tr>\n",
       "      <th>0</th>\n",
       "      <td>1.0</td>\n",
       "      <td>1.0</td>\n",
       "      <td>42.0</td>\n",
       "      <td>-194.5</td>\n",
       "      <td>-125.5</td>\n",
       "      <td>-70.0</td>\n",
       "      <td>-117.0</td>\n",
       "      <td>33.0</td>\n",
       "      <td>36.0</td>\n",
       "      <td>-129.0</td>\n",
       "      <td>...</td>\n",
       "      <td>-238.0</td>\n",
       "      <td>-187.5</td>\n",
       "      <td>-34.5</td>\n",
       "      <td>-120.0</td>\n",
       "      <td>-38.5</td>\n",
       "      <td>30.5</td>\n",
       "      <td>48.0</td>\n",
       "      <td>-37.0</td>\n",
       "      <td>5.5</td>\n",
       "      <td>30.5</td>\n",
       "    </tr>\n",
       "    <tr>\n",
       "      <th>1</th>\n",
       "      <td>2.0</td>\n",
       "      <td>1.0</td>\n",
       "      <td>42.0</td>\n",
       "      <td>-194.5</td>\n",
       "      <td>-122.0</td>\n",
       "      <td>-70.0</td>\n",
       "      <td>-117.0</td>\n",
       "      <td>32.5</td>\n",
       "      <td>36.0</td>\n",
       "      <td>-128.5</td>\n",
       "      <td>...</td>\n",
       "      <td>-238.0</td>\n",
       "      <td>-186.0</td>\n",
       "      <td>-33.0</td>\n",
       "      <td>51.0</td>\n",
       "      <td>126.0</td>\n",
       "      <td>143.5</td>\n",
       "      <td>43.0</td>\n",
       "      <td>-30.5</td>\n",
       "      <td>14.0</td>\n",
       "      <td>27.0</td>\n",
       "    </tr>\n",
       "    <tr>\n",
       "      <th>2</th>\n",
       "      <td>3.0</td>\n",
       "      <td>1.0</td>\n",
       "      <td>42.0</td>\n",
       "      <td>-166.0</td>\n",
       "      <td>-102.5</td>\n",
       "      <td>-30.5</td>\n",
       "      <td>-116.5</td>\n",
       "      <td>5.0</td>\n",
       "      <td>27.5</td>\n",
       "      <td>-142.5</td>\n",
       "      <td>...</td>\n",
       "      <td>-235.5</td>\n",
       "      <td>-57.5</td>\n",
       "      <td>-45.5</td>\n",
       "      <td>13.0</td>\n",
       "      <td>120.5</td>\n",
       "      <td>133.5</td>\n",
       "      <td>55.5</td>\n",
       "      <td>-32.5</td>\n",
       "      <td>2.0</td>\n",
       "      <td>16.5</td>\n",
       "    </tr>\n",
       "    <tr>\n",
       "      <th>3</th>\n",
       "      <td>4.0</td>\n",
       "      <td>1.0</td>\n",
       "      <td>43.0</td>\n",
       "      <td>-147.0</td>\n",
       "      <td>-84.5</td>\n",
       "      <td>-31.0</td>\n",
       "      <td>-117.0</td>\n",
       "      <td>26.0</td>\n",
       "      <td>20.5</td>\n",
       "      <td>-130.0</td>\n",
       "      <td>...</td>\n",
       "      <td>-237.5</td>\n",
       "      <td>-174.0</td>\n",
       "      <td>-34.0</td>\n",
       "      <td>-87.0</td>\n",
       "      <td>-34.5</td>\n",
       "      <td>31.5</td>\n",
       "      <td>51.0</td>\n",
       "      <td>-38.5</td>\n",
       "      <td>4.5</td>\n",
       "      <td>32.5</td>\n",
       "    </tr>\n",
       "    <tr>\n",
       "      <th>4</th>\n",
       "      <td>5.0</td>\n",
       "      <td>1.0</td>\n",
       "      <td>63.0</td>\n",
       "      <td>-51.0</td>\n",
       "      <td>-102.0</td>\n",
       "      <td>-20.0</td>\n",
       "      <td>48.5</td>\n",
       "      <td>23.5</td>\n",
       "      <td>27.5</td>\n",
       "      <td>-143.5</td>\n",
       "      <td>...</td>\n",
       "      <td>-238.5</td>\n",
       "      <td>-165.0</td>\n",
       "      <td>-54.0</td>\n",
       "      <td>-7.0</td>\n",
       "      <td>64.5</td>\n",
       "      <td>113.5</td>\n",
       "      <td>78.0</td>\n",
       "      <td>-23.0</td>\n",
       "      <td>2.0</td>\n",
       "      <td>44.5</td>\n",
       "    </tr>\n",
       "  </tbody>\n",
       "</table>\n",
       "<p>5 rows × 168 columns</p>\n",
       "</div>"
      ],
      "text/plain": [
       "   Bag Id  Bag class    F0     F1     F2    F3     F4    F5    F6     F7  ...  \\\n",
       "0     1.0        1.0  42.0 -194.5 -125.5 -70.0 -117.0  33.0  36.0 -129.0  ...   \n",
       "1     2.0        1.0  42.0 -194.5 -122.0 -70.0 -117.0  32.5  36.0 -128.5  ...   \n",
       "2     3.0        1.0  42.0 -166.0 -102.5 -30.5 -116.5   5.0  27.5 -142.5  ...   \n",
       "3     4.0        1.0  43.0 -147.0  -84.5 -31.0 -117.0  26.0  20.5 -130.0  ...   \n",
       "4     5.0        1.0  63.0  -51.0 -102.0 -20.0   48.5  23.5  27.5 -143.5  ...   \n",
       "\n",
       "    F156   F157  F158   F159   F160   F161  F162  F163  F164  F165  \n",
       "0 -238.0 -187.5 -34.5 -120.0  -38.5   30.5  48.0 -37.0   5.5  30.5  \n",
       "1 -238.0 -186.0 -33.0   51.0  126.0  143.5  43.0 -30.5  14.0  27.0  \n",
       "2 -235.5  -57.5 -45.5   13.0  120.5  133.5  55.5 -32.5   2.0  16.5  \n",
       "3 -237.5 -174.0 -34.0  -87.0  -34.5   31.5  51.0 -38.5   4.5  32.5  \n",
       "4 -238.5 -165.0 -54.0   -7.0   64.5  113.5  78.0 -23.0   2.0  44.5  \n",
       "\n",
       "[5 rows x 168 columns]"
      ]
     },
     "execution_count": 4,
     "metadata": {},
     "output_type": "execute_result"
    }
   ],
   "source": [
    "#find max and min values for each bag id. sum the values and divide by two to obtain binary class\n",
    "max_musk = musk.groupby(\"Bag Id\").max().reset_index()\n",
    "min_musk = musk.groupby(\"Bag Id\").min().reset_index()\n",
    "min_max_data = (min_musk+max_musk)/2\n",
    "print(min_max_data.shape)\n",
    "min_max_data.head()\n"
   ]
  },
  {
   "cell_type": "markdown",
   "metadata": {},
   "source": [
    "# Quarters representation"
   ]
  },
  {
   "cell_type": "code",
   "execution_count": 5,
   "metadata": {},
   "outputs": [
    {
     "name": "stdout",
     "output_type": "stream",
     "text": [
      "(92, 168)\n"
     ]
    },
    {
     "data": {
      "text/html": [
       "<div>\n",
       "<style scoped>\n",
       "    .dataframe tbody tr th:only-of-type {\n",
       "        vertical-align: middle;\n",
       "    }\n",
       "\n",
       "    .dataframe tbody tr th {\n",
       "        vertical-align: top;\n",
       "    }\n",
       "\n",
       "    .dataframe thead th {\n",
       "        text-align: right;\n",
       "    }\n",
       "</style>\n",
       "<table border=\"1\" class=\"dataframe\">\n",
       "  <thead>\n",
       "    <tr style=\"text-align: right;\">\n",
       "      <th>0.25</th>\n",
       "      <th>Bag Id</th>\n",
       "      <th>Bag class</th>\n",
       "      <th>F0</th>\n",
       "      <th>F1</th>\n",
       "      <th>F2</th>\n",
       "      <th>F3</th>\n",
       "      <th>F4</th>\n",
       "      <th>F5</th>\n",
       "      <th>F6</th>\n",
       "      <th>F7</th>\n",
       "      <th>...</th>\n",
       "      <th>F156</th>\n",
       "      <th>F157</th>\n",
       "      <th>F158</th>\n",
       "      <th>F159</th>\n",
       "      <th>F160</th>\n",
       "      <th>F161</th>\n",
       "      <th>F162</th>\n",
       "      <th>F163</th>\n",
       "      <th>F164</th>\n",
       "      <th>F165</th>\n",
       "    </tr>\n",
       "  </thead>\n",
       "  <tbody>\n",
       "    <tr>\n",
       "      <th>0</th>\n",
       "      <td>1.0</td>\n",
       "      <td>1.0</td>\n",
       "      <td>42.00</td>\n",
       "      <td>-194.50</td>\n",
       "      <td>-125.875</td>\n",
       "      <td>-70.000</td>\n",
       "      <td>-117.00</td>\n",
       "      <td>33.00</td>\n",
       "      <td>36.000</td>\n",
       "      <td>-128.25</td>\n",
       "      <td>...</td>\n",
       "      <td>-238.000</td>\n",
       "      <td>-187.875</td>\n",
       "      <td>-33.75</td>\n",
       "      <td>-120.0</td>\n",
       "      <td>-38.500</td>\n",
       "      <td>30.125</td>\n",
       "      <td>48.000</td>\n",
       "      <td>-37.000</td>\n",
       "      <td>5.500</td>\n",
       "      <td>30.125</td>\n",
       "    </tr>\n",
       "    <tr>\n",
       "      <th>1</th>\n",
       "      <td>2.0</td>\n",
       "      <td>1.0</td>\n",
       "      <td>42.00</td>\n",
       "      <td>-194.50</td>\n",
       "      <td>-122.000</td>\n",
       "      <td>-70.000</td>\n",
       "      <td>-117.00</td>\n",
       "      <td>33.25</td>\n",
       "      <td>36.375</td>\n",
       "      <td>-127.75</td>\n",
       "      <td>...</td>\n",
       "      <td>-238.000</td>\n",
       "      <td>-186.375</td>\n",
       "      <td>-32.25</td>\n",
       "      <td>51.0</td>\n",
       "      <td>126.750</td>\n",
       "      <td>143.500</td>\n",
       "      <td>42.625</td>\n",
       "      <td>-30.125</td>\n",
       "      <td>14.000</td>\n",
       "      <td>26.250</td>\n",
       "    </tr>\n",
       "    <tr>\n",
       "      <th>2</th>\n",
       "      <td>3.0</td>\n",
       "      <td>1.0</td>\n",
       "      <td>42.00</td>\n",
       "      <td>-166.00</td>\n",
       "      <td>-102.500</td>\n",
       "      <td>-30.500</td>\n",
       "      <td>-116.50</td>\n",
       "      <td>5.00</td>\n",
       "      <td>27.500</td>\n",
       "      <td>-142.50</td>\n",
       "      <td>...</td>\n",
       "      <td>-235.500</td>\n",
       "      <td>-57.500</td>\n",
       "      <td>-45.50</td>\n",
       "      <td>13.0</td>\n",
       "      <td>120.500</td>\n",
       "      <td>133.500</td>\n",
       "      <td>55.500</td>\n",
       "      <td>-32.500</td>\n",
       "      <td>2.000</td>\n",
       "      <td>16.500</td>\n",
       "    </tr>\n",
       "    <tr>\n",
       "      <th>3</th>\n",
       "      <td>4.0</td>\n",
       "      <td>1.0</td>\n",
       "      <td>42.50</td>\n",
       "      <td>-158.50</td>\n",
       "      <td>-73.750</td>\n",
       "      <td>-48.000</td>\n",
       "      <td>-117.00</td>\n",
       "      <td>20.50</td>\n",
       "      <td>22.250</td>\n",
       "      <td>-133.00</td>\n",
       "      <td>...</td>\n",
       "      <td>-237.250</td>\n",
       "      <td>-126.000</td>\n",
       "      <td>-5.50</td>\n",
       "      <td>-77.0</td>\n",
       "      <td>-33.250</td>\n",
       "      <td>31.250</td>\n",
       "      <td>50.000</td>\n",
       "      <td>-38.250</td>\n",
       "      <td>5.750</td>\n",
       "      <td>32.250</td>\n",
       "    </tr>\n",
       "    <tr>\n",
       "      <th>4</th>\n",
       "      <td>5.0</td>\n",
       "      <td>1.0</td>\n",
       "      <td>60.75</td>\n",
       "      <td>-83.25</td>\n",
       "      <td>-102.000</td>\n",
       "      <td>-27.875</td>\n",
       "      <td>-75.25</td>\n",
       "      <td>16.75</td>\n",
       "      <td>29.750</td>\n",
       "      <td>-143.50</td>\n",
       "      <td>...</td>\n",
       "      <td>-237.375</td>\n",
       "      <td>-93.375</td>\n",
       "      <td>-63.75</td>\n",
       "      <td>11.0</td>\n",
       "      <td>81.375</td>\n",
       "      <td>148.375</td>\n",
       "      <td>63.750</td>\n",
       "      <td>-28.625</td>\n",
       "      <td>-1.375</td>\n",
       "      <td>32.875</td>\n",
       "    </tr>\n",
       "  </tbody>\n",
       "</table>\n",
       "<p>5 rows × 168 columns</p>\n",
       "</div>"
      ],
      "text/plain": [
       "0.25  Bag Id  Bag class     F0      F1       F2      F3      F4     F5  \\\n",
       "0        1.0        1.0  42.00 -194.50 -125.875 -70.000 -117.00  33.00   \n",
       "1        2.0        1.0  42.00 -194.50 -122.000 -70.000 -117.00  33.25   \n",
       "2        3.0        1.0  42.00 -166.00 -102.500 -30.500 -116.50   5.00   \n",
       "3        4.0        1.0  42.50 -158.50  -73.750 -48.000 -117.00  20.50   \n",
       "4        5.0        1.0  60.75  -83.25 -102.000 -27.875  -75.25  16.75   \n",
       "\n",
       "0.25      F6      F7  ...     F156     F157   F158   F159     F160     F161  \\\n",
       "0     36.000 -128.25  ... -238.000 -187.875 -33.75 -120.0  -38.500   30.125   \n",
       "1     36.375 -127.75  ... -238.000 -186.375 -32.25   51.0  126.750  143.500   \n",
       "2     27.500 -142.50  ... -235.500  -57.500 -45.50   13.0  120.500  133.500   \n",
       "3     22.250 -133.00  ... -237.250 -126.000  -5.50  -77.0  -33.250   31.250   \n",
       "4     29.750 -143.50  ... -237.375  -93.375 -63.75   11.0   81.375  148.375   \n",
       "\n",
       "0.25    F162    F163    F164    F165  \n",
       "0     48.000 -37.000   5.500  30.125  \n",
       "1     42.625 -30.125  14.000  26.250  \n",
       "2     55.500 -32.500   2.000  16.500  \n",
       "3     50.000 -38.250   5.750  32.250  \n",
       "4     63.750 -28.625  -1.375  32.875  \n",
       "\n",
       "[5 rows x 168 columns]"
      ]
     },
     "execution_count": 5,
     "metadata": {},
     "output_type": "execute_result"
    }
   ],
   "source": [
    "#find 1st and 2nd quartile for each bag id. sum the values and divide by two to obtain binary class\n",
    "firstq_musk = musk.groupby(\"Bag Id\").quantile(0.25).reset_index()\n",
    "second2_musk = musk.groupby(\"Bag Id\").quantile(0.75).reset_index()\n",
    "quartes_data = (firstq_musk+second2_musk)/2\n",
    "print(quartes_data.shape)\n",
    "quartes_data.head()"
   ]
  },
  {
   "cell_type": "markdown",
   "metadata": {},
   "source": [
    "# Linear regression with alternative 1"
   ]
  },
  {
   "cell_type": "code",
   "execution_count": 28,
   "metadata": {},
   "outputs": [
    {
     "data": {
      "text/plain": [
       "(22, 167)"
      ]
     },
     "execution_count": 28,
     "metadata": {},
     "output_type": "execute_result"
    }
   ],
   "source": [
    "#seperate the data into test and train set\n",
    "from sklearn.utils import shuffle\n",
    "import random\n",
    "random.seed(123)\n",
    "df = shuffle(min_max_data)\n",
    "\n",
    "df = df.drop(df.columns[0], axis=1)\n",
    "train_data = df.iloc[:70,:]\n",
    "test_data = df.iloc[70:,:]\n",
    "\n",
    "X_train1 = train_data.drop(train_data.columns[0], axis=1)\n",
    "Y_train1 = train_data['Bag class']\n",
    "\n",
    "X_test1 = test_data.drop(test_data.columns[0], axis=1)\n",
    "Y_test1 = test_data['Bag class']\n",
    "test_data.shape"
   ]
  },
  {
   "cell_type": "code",
   "execution_count": 29,
   "metadata": {},
   "outputs": [
    {
     "name": "stderr",
     "output_type": "stream",
     "text": [
      "C:\\Users\\90505\\Anaconda3\\lib\\site-packages\\sklearn\\linear_model\\logistic.py:432: FutureWarning: Default solver will be changed to 'lbfgs' in 0.22. Specify a solver to silence this warning.\n",
      "  FutureWarning)\n"
     ]
    },
    {
     "data": {
      "text/plain": [
       "LogisticRegression(C=1.0, class_weight=None, dual=False, fit_intercept=True,\n",
       "                   intercept_scaling=1, l1_ratio=None, max_iter=1000,\n",
       "                   multi_class='warn', n_jobs=None, penalty='l2',\n",
       "                   random_state=None, solver='warn', tol=0.0001, verbose=0,\n",
       "                   warm_start=False)"
      ]
     },
     "execution_count": 29,
     "metadata": {},
     "output_type": "execute_result"
    }
   ],
   "source": [
    "#logistic regression model\n",
    "model = LogisticRegression(max_iter=1000)\n",
    "model.fit(X_train1, np.ravel(Y_train1))"
   ]
  },
  {
   "cell_type": "code",
   "execution_count": 30,
   "metadata": {},
   "outputs": [
    {
     "data": {
      "text/plain": [
       "0.5"
      ]
     },
     "execution_count": 30,
     "metadata": {},
     "output_type": "execute_result"
    }
   ],
   "source": [
    "#calculate the treshold\n",
    "th=Y_train1.sum()/len(X_train1)\n",
    "th=float(th)\n",
    "th"
   ]
  },
  {
   "cell_type": "code",
   "execution_count": 31,
   "metadata": {},
   "outputs": [],
   "source": [
    "#make prediction on test set\n",
    "probs_y=model.predict_proba(X_test1) \n",
    "probs_y=(probs_y[:,1]>th)*1"
   ]
  },
  {
   "cell_type": "code",
   "execution_count": 32,
   "metadata": {
    "scrolled": true
   },
   "outputs": [
    {
     "name": "stdout",
     "output_type": "stream",
     "text": [
      "Our confusion matrix is \n",
      "    0  1\n",
      "0  8  2\n",
      "1  3  9\n"
     ]
    }
   ],
   "source": [
    "#2-by-2 confusion matrix\n",
    "conf_matrix = metrics.confusion_matrix(Y_test1, probs_y)\n",
    "print(\"Our confusion matrix is \\n\", pd.DataFrame(conf_matrix))"
   ]
  },
  {
   "cell_type": "code",
   "execution_count": 33,
   "metadata": {},
   "outputs": [
    {
     "name": "stdout",
     "output_type": "stream",
     "text": [
      "Accuracy is= 0.773\n"
     ]
    }
   ],
   "source": [
    "accuracy1=(conf_matrix[0][0]+conf_matrix[1][1])/conf_matrix.sum()\n",
    "print(\"Accuracy is= %.3f\" % accuracy1)"
   ]
  },
  {
   "cell_type": "code",
   "execution_count": 34,
   "metadata": {},
   "outputs": [],
   "source": [
    "#train logistic regression model with lasso penalties\n",
    "model_lasso = LogisticRegressionCV(cv=10, penalty=\"l1\", max_iter=1000, scoring='neg_mean_absolute_error', solver='liblinear')\n",
    "model_lasso.fit(X_train1, np.ravel(Y_train1))\n",
    "pred_y_lasso = model_lasso.predict_proba(X_test1)"
   ]
  },
  {
   "cell_type": "code",
   "execution_count": 35,
   "metadata": {},
   "outputs": [
    {
     "name": "stdout",
     "output_type": "stream",
     "text": [
      "best score= 4.709869490098285\n"
     ]
    }
   ],
   "source": [
    "#calculate the loss due to the chosen lambda values by the 10-fold cross validation above\n",
    "pred_y_lasso = (pred_y_lasso[:,1]>th)*1\n",
    "score = metrics.log_loss(Y_test1, pred_y_lasso)\n",
    "print(\"best score=\", score) "
   ]
  },
  {
   "cell_type": "code",
   "execution_count": 36,
   "metadata": {},
   "outputs": [
    {
     "name": "stdout",
     "output_type": "stream",
     "text": [
      "Our confusion matrix is \n",
      "    0   1\n",
      "0  9   1\n",
      "1  2  10\n"
     ]
    }
   ],
   "source": [
    "#2-by-2 confusion matrix for LR lasso model\n",
    "conf_matrix_lasso = metrics.confusion_matrix(Y_test1, pred_y_lasso)\n",
    "print(\"Our confusion matrix is \\n\", pd.DataFrame(conf_matrix_lasso))"
   ]
  },
  {
   "cell_type": "code",
   "execution_count": 37,
   "metadata": {},
   "outputs": [
    {
     "name": "stdout",
     "output_type": "stream",
     "text": [
      "Accuracy is= 0.864\n"
     ]
    }
   ],
   "source": [
    "#accuracy calculation\n",
    "accuracy2=(conf_matrix_lasso[0][0]+conf_matrix_lasso[1][1])/conf_matrix_lasso.sum()\n",
    "print(\"Accuracy is= %.3f\" % accuracy2)"
   ]
  },
  {
   "cell_type": "markdown",
   "metadata": {},
   "source": [
    "# Logistic regression with alternative 2"
   ]
  },
  {
   "cell_type": "code",
   "execution_count": 38,
   "metadata": {},
   "outputs": [
    {
     "data": {
      "text/plain": [
       "(22, 167)"
      ]
     },
     "execution_count": 38,
     "metadata": {},
     "output_type": "execute_result"
    }
   ],
   "source": [
    "random.seed(3)\n",
    "df = shuffle(quartes_data)\n",
    "\n",
    "df = df.drop(df.columns[0], axis=1)\n",
    "train_data = df.iloc[:70,:]\n",
    "test_data = df.iloc[70:,:]\n",
    "\n",
    "X_train2 = train_data.drop(train_data.columns[0], axis=1)\n",
    "Y_train2 = train_data['Bag class']\n",
    "\n",
    "X_test2 = test_data.drop(test_data.columns[0], axis=1)\n",
    "Y_test2 = test_data['Bag class']\n",
    "test_data.shape"
   ]
  },
  {
   "cell_type": "code",
   "execution_count": 39,
   "metadata": {},
   "outputs": [
    {
     "name": "stderr",
     "output_type": "stream",
     "text": [
      "C:\\Users\\90505\\Anaconda3\\lib\\site-packages\\sklearn\\linear_model\\logistic.py:432: FutureWarning: Default solver will be changed to 'lbfgs' in 0.22. Specify a solver to silence this warning.\n",
      "  FutureWarning)\n"
     ]
    },
    {
     "data": {
      "text/plain": [
       "LogisticRegression(C=1.0, class_weight=None, dual=False, fit_intercept=True,\n",
       "                   intercept_scaling=1, l1_ratio=None, max_iter=1000,\n",
       "                   multi_class='warn', n_jobs=None, penalty='l2',\n",
       "                   random_state=None, solver='warn', tol=0.0001, verbose=0,\n",
       "                   warm_start=False)"
      ]
     },
     "execution_count": 39,
     "metadata": {},
     "output_type": "execute_result"
    }
   ],
   "source": [
    "model = LogisticRegression(max_iter=1000)\n",
    "model.fit(X_train2, np.ravel(Y_train2))"
   ]
  },
  {
   "cell_type": "code",
   "execution_count": 40,
   "metadata": {},
   "outputs": [
    {
     "data": {
      "text/plain": [
       "0.4714285714285714"
      ]
     },
     "execution_count": 40,
     "metadata": {},
     "output_type": "execute_result"
    }
   ],
   "source": [
    "#calculate the treshold\n",
    "th=Y_train2.sum()/len(X_train2)\n",
    "th=float(th)\n",
    "th"
   ]
  },
  {
   "cell_type": "code",
   "execution_count": 41,
   "metadata": {},
   "outputs": [],
   "source": [
    "#make prediction on test set\n",
    "probs_y=model.predict_proba(X_test2) \n",
    "probs_y=(probs_y[:,1]>th)*1"
   ]
  },
  {
   "cell_type": "code",
   "execution_count": 42,
   "metadata": {},
   "outputs": [
    {
     "name": "stdout",
     "output_type": "stream",
     "text": [
      "Our confusion matrix is \n",
      "    0   1\n",
      "0  6   2\n",
      "1  2  12\n"
     ]
    }
   ],
   "source": [
    "#2-by-2 confusion matrix\n",
    "conf_matrix = metrics.confusion_matrix(Y_test2, probs_y)\n",
    "print(\"Our confusion matrix is \\n\", pd.DataFrame(conf_matrix))"
   ]
  },
  {
   "cell_type": "code",
   "execution_count": 43,
   "metadata": {},
   "outputs": [
    {
     "name": "stdout",
     "output_type": "stream",
     "text": [
      "Accuracy is= 0.818\n"
     ]
    }
   ],
   "source": [
    "accuracy1=(conf_matrix[0][0]+conf_matrix[1][1])/conf_matrix.sum()\n",
    "print(\"Accuracy is= %.3f\" % accuracy1)"
   ]
  },
  {
   "cell_type": "code",
   "execution_count": 44,
   "metadata": {},
   "outputs": [],
   "source": [
    "#train logistic regression model with lasso penalties\n",
    "model_lasso = LogisticRegressionCV(cv=10, penalty=\"l1\", max_iter=1000, scoring='neg_mean_absolute_error', solver='liblinear')\n",
    "model_lasso.fit(X_train2, np.ravel(Y_train2))\n",
    "pred_y_lasso = model_lasso.predict_proba(X_test2)"
   ]
  },
  {
   "cell_type": "code",
   "execution_count": 45,
   "metadata": {},
   "outputs": [
    {
     "name": "stdout",
     "output_type": "stream",
     "text": [
      "best score= 6.2798865623606055\n"
     ]
    }
   ],
   "source": [
    "#calculate the loss due to the chosen lambda values by the 10-fold cross validation above\n",
    "pred_y_lasso = (pred_y_lasso[:,1]>th)*1\n",
    "score = metrics.log_loss(Y_test2, pred_y_lasso)\n",
    "print(\"best score=\", score) "
   ]
  },
  {
   "cell_type": "code",
   "execution_count": 46,
   "metadata": {},
   "outputs": [
    {
     "name": "stdout",
     "output_type": "stream",
     "text": [
      "Our confusion matrix is \n",
      "    0   1\n",
      "0  5   3\n",
      "1  1  13\n"
     ]
    }
   ],
   "source": [
    "#2-by-2 confusion matrix for LR lasso model\n",
    "conf_matrix_lasso = metrics.confusion_matrix(Y_test2, pred_y_lasso)\n",
    "print(\"Our confusion matrix is \\n\", pd.DataFrame(conf_matrix_lasso))"
   ]
  },
  {
   "cell_type": "code",
   "execution_count": 64,
   "metadata": {},
   "outputs": [
    {
     "name": "stdout",
     "output_type": "stream",
     "text": [
      "Accuracy is= 0.818\n"
     ]
    }
   ],
   "source": [
    "#accuracy calculation\n",
    "accuracy2=(conf_matrix_lasso[0][0]+conf_matrix_lasso[1][1])/conf_matrix_lasso.sum()\n",
    "print(\"Accuracy is= %.3f\" % accuracy2)"
   ]
  },
  {
   "cell_type": "markdown",
   "metadata": {},
   "source": [
    "# Decision tree with alternative 1"
   ]
  },
  {
   "cell_type": "code",
   "execution_count": 49,
   "metadata": {},
   "outputs": [
    {
     "data": {
      "text/plain": [
       "False"
      ]
     },
     "execution_count": 49,
     "metadata": {},
     "output_type": "execute_result"
    }
   ],
   "source": [
    "#find out if there any NA in the dataset\n",
    "musk.isnull().values.any()"
   ]
  },
  {
   "cell_type": "code",
   "execution_count": 50,
   "metadata": {},
   "outputs": [
    {
     "name": "stdout",
     "output_type": "stream",
     "text": [
      "     0         1\n",
      "0    3  0.733333\n",
      "1    4  0.708333\n",
      "2    5  0.679167\n",
      "3    6  0.670833\n",
      "4    7  0.725000\n",
      "5    8  0.637500\n",
      "6    9  0.720833\n",
      "7   10  0.675000\n",
      "8   11  0.700000\n",
      "9   12  0.700000\n",
      "10  13  0.745833\n",
      "11  14  0.712500\n",
      "12  15  0.729167\n",
      "13  16  0.729167\n",
      "14  17  0.700000\n",
      "15  18  0.670833\n",
      "16  19  0.687500\n"
     ]
    }
   ],
   "source": [
    "#decide the optimum depth value by 10 fold cross validation\n",
    "from sklearn import tree\n",
    "depth = []\n",
    "for i in range(3,20):\n",
    "    clf = tree.DecisionTreeClassifier(max_depth=i)\n",
    "    # Perform 10-fold cross validation \n",
    "    scores = cross_val_score(estimator=clf, X=X_train1, y=Y_train1, cv=10, n_jobs=4)\n",
    "    depth.append((i,scores.mean()))\n",
    "depth=pd.DataFrame(depth)\n",
    "print(depth)"
   ]
  },
  {
   "cell_type": "code",
   "execution_count": 57,
   "metadata": {},
   "outputs": [
    {
     "data": {
      "text/plain": [
       "DecisionTreeClassifier(class_weight=None, criterion='gini', max_depth=4,\n",
       "                       max_features=None, max_leaf_nodes=None,\n",
       "                       min_impurity_decrease=0.0, min_impurity_split=None,\n",
       "                       min_samples_leaf=5, min_samples_split=2,\n",
       "                       min_weight_fraction_leaf=0.0, presort=False,\n",
       "                       random_state=6, splitter='best')"
      ]
     },
     "execution_count": 57,
     "metadata": {},
     "output_type": "execute_result"
    }
   ],
   "source": [
    "from sklearn.tree import DecisionTreeClassifier\n",
    "clf_model = DecisionTreeClassifier(criterion=\"gini\", random_state=6, max_depth=4, min_samples_leaf=5)   \n",
    "clf_model.fit(X_train1, Y_train1)"
   ]
  },
  {
   "cell_type": "code",
   "execution_count": 58,
   "metadata": {},
   "outputs": [],
   "source": [
    "y_predict = clf_model.predict(X_test1)"
   ]
  },
  {
   "cell_type": "code",
   "execution_count": 59,
   "metadata": {},
   "outputs": [
    {
     "name": "stdout",
     "output_type": "stream",
     "text": [
      "Accuracy is= 0.727\n"
     ]
    }
   ],
   "source": [
    "from sklearn.metrics import accuracy_score,classification_report,confusion_matrix\n",
    "print(\"Accuracy is= %.3f\" % accuracy_score(Y_test1,y_predict))"
   ]
  },
  {
   "cell_type": "markdown",
   "metadata": {},
   "source": [
    "# Decision tree with alternative 2"
   ]
  },
  {
   "cell_type": "code",
   "execution_count": 60,
   "metadata": {},
   "outputs": [
    {
     "name": "stdout",
     "output_type": "stream",
     "text": [
      "     0         1\n",
      "0    3  0.710119\n",
      "1    4  0.673214\n",
      "2    5  0.705952\n",
      "3    6  0.720833\n",
      "4    7  0.704167\n",
      "5    8  0.704167\n",
      "6    9  0.733333\n",
      "7   10  0.720833\n",
      "8   11  0.730952\n",
      "9   12  0.730952\n",
      "10  13  0.689881\n",
      "11  14  0.720833\n",
      "12  15  0.716667\n",
      "13  16  0.689286\n",
      "14  17  0.689881\n",
      "15  18  0.729167\n",
      "16  19  0.704167\n"
     ]
    }
   ],
   "source": [
    "depth = []\n",
    "for i in range(3,20):\n",
    "    clf = tree.DecisionTreeClassifier(max_depth=i)\n",
    "    # Perform 10-fold cross validation \n",
    "    scores = cross_val_score(estimator=clf, X=X_train2, y=Y_train2, cv=10, n_jobs=4)\n",
    "    depth.append((i,scores.mean()))\n",
    "depth=pd.DataFrame(depth)\n",
    "print(depth)"
   ]
  },
  {
   "cell_type": "code",
   "execution_count": 61,
   "metadata": {},
   "outputs": [
    {
     "data": {
      "text/plain": [
       "DecisionTreeClassifier(class_weight=None, criterion='gini', max_depth=6,\n",
       "                       max_features=None, max_leaf_nodes=None,\n",
       "                       min_impurity_decrease=0.0, min_impurity_split=None,\n",
       "                       min_samples_leaf=3, min_samples_split=2,\n",
       "                       min_weight_fraction_leaf=0.0, presort=False,\n",
       "                       random_state=42, splitter='best')"
      ]
     },
     "execution_count": 61,
     "metadata": {},
     "output_type": "execute_result"
    }
   ],
   "source": [
    "from sklearn.tree import DecisionTreeClassifier\n",
    "clf_model = DecisionTreeClassifier(random_state=42,max_depth=6, min_samples_leaf=3)   \n",
    "clf_model.fit(X_train2, Y_train2)"
   ]
  },
  {
   "cell_type": "code",
   "execution_count": 62,
   "metadata": {},
   "outputs": [],
   "source": [
    "y_predict = clf_model.predict(X_test2)"
   ]
  },
  {
   "cell_type": "code",
   "execution_count": 63,
   "metadata": {},
   "outputs": [
    {
     "name": "stdout",
     "output_type": "stream",
     "text": [
      "Accuracy is= 0.773\n"
     ]
    }
   ],
   "source": [
    "from sklearn.metrics import accuracy_score,classification_report,confusion_matrix\n",
    "print(\"Accuracy is= %.3f\" % accuracy_score(Y_test2,y_predict))"
   ]
  },
  {
   "cell_type": "markdown",
   "metadata": {},
   "source": [
    "# Loss values\n",
    "Logistic Regression\n",
    "\n",
    "Alternative 1: 0.773\n",
    "\n",
    "Alternative 2: 0.818\n",
    "\n",
    "Logistic Regression Lasso\n",
    "\n",
    "Alternative 1: 0.864\n",
    "\n",
    "Alternative 2: 0.817\n",
    "\n",
    "Decision Tree\n",
    "\n",
    "Alternative 1: 0.727\n",
    "\n",
    "Alternative 2: 0.773"
   ]
  },
  {
   "cell_type": "markdown",
   "metadata": {},
   "source": [
    "The best combination is the max-min representation with Logistic Regression via lasso penalization"
   ]
  },
  {
   "cell_type": "code",
   "execution_count": null,
   "metadata": {},
   "outputs": [],
   "source": []
  }
 ],
 "metadata": {
  "kernelspec": {
   "display_name": "Python 3",
   "language": "python",
   "name": "python3"
  },
  "language_info": {
   "codemirror_mode": {
    "name": "ipython",
    "version": 3
   },
   "file_extension": ".py",
   "mimetype": "text/x-python",
   "name": "python",
   "nbconvert_exporter": "python",
   "pygments_lexer": "ipython3",
   "version": "3.7.3"
  }
 },
 "nbformat": 4,
 "nbformat_minor": 2
}
